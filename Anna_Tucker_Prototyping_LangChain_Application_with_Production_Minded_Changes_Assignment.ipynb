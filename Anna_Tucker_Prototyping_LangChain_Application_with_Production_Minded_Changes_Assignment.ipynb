{
  "nbformat": 4,
  "nbformat_minor": 0,
  "metadata": {
    "colab": {
      "provenance": [],
      "machine_shape": "hm",
      "gpuType": "T4",
      "include_colab_link": true
    },
    "kernelspec": {
      "name": "python3",
      "display_name": "Python 3"
    },
    "language_info": {
      "name": "python"
    },
    "accelerator": "GPU"
  },
  "cells": [
    {
      "cell_type": "markdown",
      "metadata": {
        "id": "view-in-github",
        "colab_type": "text"
      },
      "source": [
        "<a href=\"https://colab.research.google.com/github/a-tuck-ai/AEI4/blob/main/Anna_Tucker_Prototyping_LangChain_Application_with_Production_Minded_Changes_Assignment.ipynb\" target=\"_parent\"><img src=\"https://colab.research.google.com/assets/colab-badge.svg\" alt=\"Open In Colab\"/></a>"
      ]
    },
    {
      "cell_type": "markdown",
      "source": [
        "# Prototyping LangChain Application with Production Minded Changes\n",
        "\n",
        "For our first breakout room we'll be exploring how to set-up a LangChain LCEL chain in a way that takes advantage of all of the amazing out of the box production ready features it offers.\n",
        "\n",
        "We'll also explore `Caching` and what makes it an invaluable tool when transitioning to production environments.\n",
        "\n",
        "🤝 BREAKOUT ROOM #1:\n",
        "  - Task 1: Depends and Set-Up\n",
        "  - Task 2: Setting up RAG With Production in Mind\n",
        "  - Task 3: RAG LCEL Chain\n",
        "\n"
      ],
      "metadata": {
        "id": "8ZsP-j7w3zcL"
      }
    },
    {
      "cell_type": "markdown",
      "source": [
        "## Task 1: Depends and Set-Up\n",
        "\n",
        "Let's get everything we need - we're going to use very specific versioning today to try to mitigate potential env. issues!\n",
        "\n",
        "> NOTE: Dependency issues are a large portion of what you're going to be tackling as you integrate new technology into your work - please keep in mind that one of the things you should be passively learning throughout this course is ways to mitigate dependency issues."
      ],
      "metadata": {
        "id": "PpeN9ND0HKa0"
      }
    },
    {
      "cell_type": "code",
      "execution_count": 1,
      "metadata": {
        "id": "0P4IJUQF27jW"
      },
      "outputs": [],
      "source": [
        "!pip install -qU langchain_openai==0.2.0 langchain_community==0.3.0 langchain==0.3.0 pymupdf==1.24.10 qdrant-client==1.11.2 langchain_qdrant==0.1.4 langsmith==0.1.121"
      ]
    },
    {
      "cell_type": "markdown",
      "source": [
        "We'll need an OpenAI API Key:"
      ],
      "metadata": {
        "id": "qYcWLzrmHgDb"
      }
    },
    {
      "cell_type": "code",
      "source": [
        "import os\n",
        "import getpass\n",
        "\n",
        "os.environ[\"OPENAI_API_KEY\"] = getpass.getpass(\"OpenAI API Key:\")"
      ],
      "metadata": {
        "colab": {
          "base_uri": "https://localhost:8080/"
        },
        "id": "GZ8qfrFh_6ed",
        "outputId": "0d1f9a5b-f671-47b8-81f5-c4bfccd34768"
      },
      "execution_count": 2,
      "outputs": [
        {
          "name": "stdout",
          "output_type": "stream",
          "text": [
            "OpenAI API Key:··········\n"
          ]
        }
      ]
    },
    {
      "cell_type": "markdown",
      "source": [
        "And the LangSmith set-up:"
      ],
      "metadata": {
        "id": "piz2DUDuHiSO"
      }
    },
    {
      "cell_type": "code",
      "source": [
        "import uuid\n",
        "\n",
        "os.environ[\"LANGCHAIN_PROJECT\"] = f\"AIM Week 8 Assignment 1 - {uuid.uuid4().hex[0:8]}\"\n",
        "os.environ[\"LANGCHAIN_TRACING_V2\"] = \"true\"\n",
        "os.environ[\"LANGCHAIN_ENDPOINT\"] = \"https://api.smith.langchain.com\"\n",
        "os.environ[\"LANGCHAIN_API_KEY\"] = getpass.getpass(\"LangChain API Key:\")"
      ],
      "metadata": {
        "id": "wLZX5zowCh-q",
        "colab": {
          "base_uri": "https://localhost:8080/"
        },
        "outputId": "7a370a0d-88fb-45a4-90fc-2f73e6cc2902"
      },
      "execution_count": 3,
      "outputs": [
        {
          "name": "stdout",
          "output_type": "stream",
          "text": [
            "LangChain API Key:··········\n"
          ]
        }
      ]
    },
    {
      "cell_type": "markdown",
      "source": [
        "Let's verify our project so we can leverage it in LangSmith later."
      ],
      "metadata": {
        "id": "WmwNTziKHrQm"
      }
    },
    {
      "cell_type": "code",
      "source": [
        "print(os.environ[\"LANGCHAIN_PROJECT\"])"
      ],
      "metadata": {
        "colab": {
          "base_uri": "https://localhost:8080/"
        },
        "id": "T6GZmkVkFcHq",
        "outputId": "105e3617-32c7-4fff-bcef-8b5adf06a479"
      },
      "execution_count": 4,
      "outputs": [
        {
          "output_type": "stream",
          "name": "stdout",
          "text": [
            "AIM Week 8 Assignment 1 - df5c2c3c\n"
          ]
        }
      ]
    },
    {
      "cell_type": "markdown",
      "source": [
        "## Task 2: Setting up RAG With Production in Mind\n",
        "\n",
        "This is the most crucial step in the process - in order to take advantage of:\n",
        "\n",
        "- Asyncronous requests\n",
        "- Parallel Execution in Chains\n",
        "- And more...\n",
        "\n",
        "You must...use LCEL. These benefits are provided out of the box and largely optimized behind the scenes."
      ],
      "metadata": {
        "id": "un_ppfaAHv1J"
      }
    },
    {
      "cell_type": "markdown",
      "source": [
        "### Building our RAG Components: Retriever\n",
        "\n",
        "We'll start by building some familiar components - and showcase how they automatically scale to production features."
      ],
      "metadata": {
        "id": "vGi-db23JMAL"
      }
    },
    {
      "cell_type": "markdown",
      "source": [
        "Please upload a PDF file to use in this example!\n",
        "\n",
        "⚠ If you're running in a non-Chrome browser - you may run into issues with this cell. Please upload the file using Colab's file upload - and indicate the `file_path` in the cell with `file_path`. ⚠\n",
        "\n",
        "![image](https://i.imgur.com/Qa1Uwlj.png)\n",
        "\n",
        "\n",
        "\n",
        "> NOTE: You can skip this step if you are running locally - please just point to your local file."
      ],
      "metadata": {
        "id": "zvbT3HSDJemE"
      }
    },
    {
      "cell_type": "code",
      "source": [
        "from google.colab import files\n",
        "uploaded = files.upload()"
      ],
      "metadata": {
        "colab": {
          "base_uri": "https://localhost:8080/",
          "height": 74
        },
        "id": "dvYczNeY91Hn",
        "outputId": "4ce3ba5d-1ed4-4a5b-e92a-0e0f6917759f"
      },
      "execution_count": 5,
      "outputs": [
        {
          "output_type": "display_data",
          "data": {
            "text/plain": [
              "<IPython.core.display.HTML object>"
            ],
            "text/html": [
              "\n",
              "     <input type=\"file\" id=\"files-14842866-7325-49ec-8864-37a1a73a7ef2\" name=\"files[]\" multiple disabled\n",
              "        style=\"border:none\" />\n",
              "     <output id=\"result-14842866-7325-49ec-8864-37a1a73a7ef2\">\n",
              "      Upload widget is only available when the cell has been executed in the\n",
              "      current browser session. Please rerun this cell to enable.\n",
              "      </output>\n",
              "      <script>// Copyright 2017 Google LLC\n",
              "//\n",
              "// Licensed under the Apache License, Version 2.0 (the \"License\");\n",
              "// you may not use this file except in compliance with the License.\n",
              "// You may obtain a copy of the License at\n",
              "//\n",
              "//      http://www.apache.org/licenses/LICENSE-2.0\n",
              "//\n",
              "// Unless required by applicable law or agreed to in writing, software\n",
              "// distributed under the License is distributed on an \"AS IS\" BASIS,\n",
              "// WITHOUT WARRANTIES OR CONDITIONS OF ANY KIND, either express or implied.\n",
              "// See the License for the specific language governing permissions and\n",
              "// limitations under the License.\n",
              "\n",
              "/**\n",
              " * @fileoverview Helpers for google.colab Python module.\n",
              " */\n",
              "(function(scope) {\n",
              "function span(text, styleAttributes = {}) {\n",
              "  const element = document.createElement('span');\n",
              "  element.textContent = text;\n",
              "  for (const key of Object.keys(styleAttributes)) {\n",
              "    element.style[key] = styleAttributes[key];\n",
              "  }\n",
              "  return element;\n",
              "}\n",
              "\n",
              "// Max number of bytes which will be uploaded at a time.\n",
              "const MAX_PAYLOAD_SIZE = 100 * 1024;\n",
              "\n",
              "function _uploadFiles(inputId, outputId) {\n",
              "  const steps = uploadFilesStep(inputId, outputId);\n",
              "  const outputElement = document.getElementById(outputId);\n",
              "  // Cache steps on the outputElement to make it available for the next call\n",
              "  // to uploadFilesContinue from Python.\n",
              "  outputElement.steps = steps;\n",
              "\n",
              "  return _uploadFilesContinue(outputId);\n",
              "}\n",
              "\n",
              "// This is roughly an async generator (not supported in the browser yet),\n",
              "// where there are multiple asynchronous steps and the Python side is going\n",
              "// to poll for completion of each step.\n",
              "// This uses a Promise to block the python side on completion of each step,\n",
              "// then passes the result of the previous step as the input to the next step.\n",
              "function _uploadFilesContinue(outputId) {\n",
              "  const outputElement = document.getElementById(outputId);\n",
              "  const steps = outputElement.steps;\n",
              "\n",
              "  const next = steps.next(outputElement.lastPromiseValue);\n",
              "  return Promise.resolve(next.value.promise).then((value) => {\n",
              "    // Cache the last promise value to make it available to the next\n",
              "    // step of the generator.\n",
              "    outputElement.lastPromiseValue = value;\n",
              "    return next.value.response;\n",
              "  });\n",
              "}\n",
              "\n",
              "/**\n",
              " * Generator function which is called between each async step of the upload\n",
              " * process.\n",
              " * @param {string} inputId Element ID of the input file picker element.\n",
              " * @param {string} outputId Element ID of the output display.\n",
              " * @return {!Iterable<!Object>} Iterable of next steps.\n",
              " */\n",
              "function* uploadFilesStep(inputId, outputId) {\n",
              "  const inputElement = document.getElementById(inputId);\n",
              "  inputElement.disabled = false;\n",
              "\n",
              "  const outputElement = document.getElementById(outputId);\n",
              "  outputElement.innerHTML = '';\n",
              "\n",
              "  const pickedPromise = new Promise((resolve) => {\n",
              "    inputElement.addEventListener('change', (e) => {\n",
              "      resolve(e.target.files);\n",
              "    });\n",
              "  });\n",
              "\n",
              "  const cancel = document.createElement('button');\n",
              "  inputElement.parentElement.appendChild(cancel);\n",
              "  cancel.textContent = 'Cancel upload';\n",
              "  const cancelPromise = new Promise((resolve) => {\n",
              "    cancel.onclick = () => {\n",
              "      resolve(null);\n",
              "    };\n",
              "  });\n",
              "\n",
              "  // Wait for the user to pick the files.\n",
              "  const files = yield {\n",
              "    promise: Promise.race([pickedPromise, cancelPromise]),\n",
              "    response: {\n",
              "      action: 'starting',\n",
              "    }\n",
              "  };\n",
              "\n",
              "  cancel.remove();\n",
              "\n",
              "  // Disable the input element since further picks are not allowed.\n",
              "  inputElement.disabled = true;\n",
              "\n",
              "  if (!files) {\n",
              "    return {\n",
              "      response: {\n",
              "        action: 'complete',\n",
              "      }\n",
              "    };\n",
              "  }\n",
              "\n",
              "  for (const file of files) {\n",
              "    const li = document.createElement('li');\n",
              "    li.append(span(file.name, {fontWeight: 'bold'}));\n",
              "    li.append(span(\n",
              "        `(${file.type || 'n/a'}) - ${file.size} bytes, ` +\n",
              "        `last modified: ${\n",
              "            file.lastModifiedDate ? file.lastModifiedDate.toLocaleDateString() :\n",
              "                                    'n/a'} - `));\n",
              "    const percent = span('0% done');\n",
              "    li.appendChild(percent);\n",
              "\n",
              "    outputElement.appendChild(li);\n",
              "\n",
              "    const fileDataPromise = new Promise((resolve) => {\n",
              "      const reader = new FileReader();\n",
              "      reader.onload = (e) => {\n",
              "        resolve(e.target.result);\n",
              "      };\n",
              "      reader.readAsArrayBuffer(file);\n",
              "    });\n",
              "    // Wait for the data to be ready.\n",
              "    let fileData = yield {\n",
              "      promise: fileDataPromise,\n",
              "      response: {\n",
              "        action: 'continue',\n",
              "      }\n",
              "    };\n",
              "\n",
              "    // Use a chunked sending to avoid message size limits. See b/62115660.\n",
              "    let position = 0;\n",
              "    do {\n",
              "      const length = Math.min(fileData.byteLength - position, MAX_PAYLOAD_SIZE);\n",
              "      const chunk = new Uint8Array(fileData, position, length);\n",
              "      position += length;\n",
              "\n",
              "      const base64 = btoa(String.fromCharCode.apply(null, chunk));\n",
              "      yield {\n",
              "        response: {\n",
              "          action: 'append',\n",
              "          file: file.name,\n",
              "          data: base64,\n",
              "        },\n",
              "      };\n",
              "\n",
              "      let percentDone = fileData.byteLength === 0 ?\n",
              "          100 :\n",
              "          Math.round((position / fileData.byteLength) * 100);\n",
              "      percent.textContent = `${percentDone}% done`;\n",
              "\n",
              "    } while (position < fileData.byteLength);\n",
              "  }\n",
              "\n",
              "  // All done.\n",
              "  yield {\n",
              "    response: {\n",
              "      action: 'complete',\n",
              "    }\n",
              "  };\n",
              "}\n",
              "\n",
              "scope.google = scope.google || {};\n",
              "scope.google.colab = scope.google.colab || {};\n",
              "scope.google.colab._files = {\n",
              "  _uploadFiles,\n",
              "  _uploadFilesContinue,\n",
              "};\n",
              "})(self);\n",
              "</script> "
            ]
          },
          "metadata": {}
        },
        {
          "output_type": "stream",
          "name": "stdout",
          "text": [
            "Saving twilight-2008.pdf to twilight-2008 (1).pdf\n"
          ]
        }
      ]
    },
    {
      "cell_type": "code",
      "source": [
        "file_path = list(uploaded.keys())[0]\n",
        "file_path"
      ],
      "metadata": {
        "colab": {
          "base_uri": "https://localhost:8080/",
          "height": 35
        },
        "id": "NtwoVUbaJlbW",
        "outputId": "f7cde0cf-9390-41b6-d3e8-f87ac4f47a00"
      },
      "execution_count": 6,
      "outputs": [
        {
          "output_type": "execute_result",
          "data": {
            "text/plain": [
              "'twilight-2008 (1).pdf'"
            ],
            "application/vnd.google.colaboratory.intrinsic+json": {
              "type": "string"
            }
          },
          "metadata": {},
          "execution_count": 6
        }
      ]
    },
    {
      "cell_type": "markdown",
      "source": [
        "We'll define our chunking strategy."
      ],
      "metadata": {
        "id": "kucGy3f0Jhdi"
      }
    },
    {
      "cell_type": "code",
      "source": [
        "from langchain_text_splitters import RecursiveCharacterTextSplitter\n",
        "\n",
        "text_splitter = RecursiveCharacterTextSplitter(chunk_size=1000, chunk_overlap=100)"
      ],
      "metadata": {
        "id": "G-DNvNFd8je5"
      },
      "execution_count": 7,
      "outputs": []
    },
    {
      "cell_type": "markdown",
      "source": [
        "We'll chunk our uploaded PDF file."
      ],
      "metadata": {
        "id": "3_zRRNcLKCZh"
      }
    },
    {
      "cell_type": "code",
      "source": [
        "from langchain_community.document_loaders import PyMuPDFLoader\n",
        "\n",
        "Loader = PyMuPDFLoader\n",
        "loader = Loader(file_path)\n",
        "documents = loader.load()\n",
        "docs = text_splitter.split_documents(documents)\n",
        "for i, doc in enumerate(docs):\n",
        "    doc.metadata[\"source\"] = f\"source_{i}\""
      ],
      "metadata": {
        "id": "KOh6w9ud-ff6"
      },
      "execution_count": 8,
      "outputs": []
    },
    {
      "cell_type": "markdown",
      "source": [
        "#### QDrant Vector Database - Cache Backed Embeddings\n",
        "\n",
        "The process of embedding is typically a very time consuming one - we must, for ever single vector in our VDB as well as query:\n",
        "\n",
        "1. Send the text to an API endpoint (self-hosted, OpenAI, etc)\n",
        "2. Wait for processing\n",
        "3. Receive response\n",
        "\n",
        "This process costs time, and money - and occurs *every single time a document gets converted into a vector representation*.\n",
        "\n",
        "Instead, what if we:\n",
        "\n",
        "1. Set up a cache that can hold our vectors and embeddings (similar to, or in some cases literally a vector database)\n",
        "2. Send the text to an API endpoint (self-hosted, OpenAI, etc)\n",
        "3. Check the cache to see if we've already converted this text before.\n",
        "  - If we have: Return the vector representation\n",
        "  - Else: Wait for processing and proceed\n",
        "4. Store the text that was converted alongside its vector representation in a cache of some kind.\n",
        "5. Return the vector representation\n",
        "\n",
        "Notice that we can shortcut some instances of \"Wait for processing and proceed\".\n",
        "\n",
        "Let's see how this is implemented in the code."
      ],
      "metadata": {
        "id": "U4XLeqJMKGdQ"
      }
    },
    {
      "cell_type": "code",
      "source": [
        "from qdrant_client import QdrantClient\n",
        "from qdrant_client.http.models import Distance, VectorParams\n",
        "from langchain_openai.embeddings import OpenAIEmbeddings\n",
        "from langchain.storage import LocalFileStore\n",
        "from langchain_qdrant import QdrantVectorStore\n",
        "from langchain.embeddings import CacheBackedEmbeddings\n",
        "\n",
        "# Typical Embedding Model\n",
        "core_embeddings = OpenAIEmbeddings(model=\"text-embedding-3-small\")\n",
        "\n",
        "# Typical QDrant Client Set-up\n",
        "collection_name = f\"pdf_to_parse_{uuid.uuid4()}\"\n",
        "client = QdrantClient(\":memory:\")\n",
        "client.create_collection(\n",
        "    collection_name=collection_name,\n",
        "    vectors_config=VectorParams(size=1536, distance=Distance.COSINE),\n",
        ")\n",
        "\n",
        "# Adding cache!\n",
        "store = LocalFileStore(\"./cache/\")\n",
        "cached_embedder = CacheBackedEmbeddings.from_bytes_store(\n",
        "    core_embeddings, store, namespace=core_embeddings.model\n",
        ")\n",
        "\n",
        "# Typical QDrant Vector Store Set-up\n",
        "vectorstore = QdrantVectorStore(\n",
        "    client=client,\n",
        "    collection_name=collection_name,\n",
        "    embedding=cached_embedder)\n",
        "vectorstore.add_documents(docs)\n",
        "retriever = vectorstore.as_retriever(search_type=\"mmr\", search_kwargs={\"k\": 3})"
      ],
      "metadata": {
        "id": "dzPUTCua98b2"
      },
      "execution_count": 9,
      "outputs": []
    },
    {
      "cell_type": "markdown",
      "source": [
        "##### ❓ Question #1:\n",
        "\n",
        "What are some limitations you can see with this approach? When is this most/least useful. Discuss with your group!\n",
        "\n",
        "> NOTE: There is no single correct answer here!"
      ],
      "metadata": {
        "id": "QVZGvmNYLomp"
      }
    },
    {
      "cell_type": "markdown",
      "source": [
        "Cache-backed embeddings can speed up repeated queries and batch processing by avoiding redundant API calls, but they come with increased storage requirements and potential consistency issues across different environments. The approach is most beneficial for applications with frequent, similar queries or during development and testing phases. However, it may be less advantageous for highly dynamic content, one-time operations, or memory-constrained environments. The effectiveness of this method ultimately depends on the specific use case, with factors like query patterns, data volatility, and system resources playing crucial roles in determining its utility."
      ],
      "metadata": {
        "id": "E-tVMUN6GQcK"
      }
    },
    {
      "cell_type": "markdown",
      "source": [
        "##### 🏗️ Activity #1:\n",
        "\n",
        "Create a simple experiment that tests the cache-backed embeddings."
      ],
      "metadata": {
        "id": "vZAOhyb3L9iD"
      }
    },
    {
      "cell_type": "code",
      "source": [
        "import time\n",
        "\n",
        "# Embedding/Time\n",
        "def run_cache_test(query):\n",
        "    start_time = time.time()\n",
        "    _ = retriever.invoke(query)\n",
        "    end_time = time.time()\n",
        "    return end_time - start_time\n",
        "\n",
        "# Test text\n",
        "test_text = \"What did Edward call Bella when he climbed trees with her on her back?\"\n",
        "\n",
        "# First run (without cache)\n",
        "first_run_time = run_cache_test(test_text)\n",
        "print(f\"First run time (without cache): {first_run_time:.4f} seconds\")\n",
        "\n",
        "# Second run (with cache)\n",
        "second_run_time = run_cache_test(test_text)\n",
        "print(f\"Second run time (with cache): {second_run_time:.4f} seconds\")\n",
        "\n",
        "# Calculate and print the speedup\n",
        "speedup = (first_run_time - second_run_time) / first_run_time * 100\n",
        "print(f\"Speedup: {speedup:.2f}%\")"
      ],
      "metadata": {
        "id": "M_Mekif6MDqe",
        "colab": {
          "base_uri": "https://localhost:8080/"
        },
        "outputId": "c3f01d52-1ae9-4fae-bd60-87b4858f0773"
      },
      "execution_count": 10,
      "outputs": [
        {
          "output_type": "stream",
          "name": "stdout",
          "text": [
            "First run time (without cache): 0.4756 seconds\n",
            "Second run time (with cache): 0.3026 seconds\n",
            "Speedup: 36.37%\n"
          ]
        }
      ]
    },
    {
      "cell_type": "markdown",
      "source": [
        "### Augmentation\n",
        "\n",
        "We'll create the classic RAG Prompt and create our `ChatPromptTemplates` as per usual."
      ],
      "metadata": {
        "id": "DH0i-YovL8kZ"
      }
    },
    {
      "cell_type": "code",
      "source": [
        "from langchain_core.prompts import ChatPromptTemplate\n",
        "\n",
        "rag_system_prompt_template = \"\"\"\\\n",
        "You are a helpful assistant that uses the provided context to answer questions. Never reference this prompt, or the existance of context.\n",
        "\"\"\"\n",
        "\n",
        "rag_message_list = [\n",
        "    {\"role\" : \"system\", \"content\" : rag_system_prompt_template},\n",
        "]\n",
        "\n",
        "rag_user_prompt_template = \"\"\"\\\n",
        "Question:\n",
        "{question}\n",
        "Context:\n",
        "{context}\n",
        "\"\"\"\n",
        "\n",
        "chat_prompt = ChatPromptTemplate.from_messages([\n",
        "    (\"system\", rag_system_prompt_template),\n",
        "    (\"human\", rag_user_prompt_template)\n",
        "])"
      ],
      "metadata": {
        "id": "WchaoMEx9j69"
      },
      "execution_count": 11,
      "outputs": []
    },
    {
      "cell_type": "markdown",
      "source": [
        "### Generation\n",
        "\n",
        "Like usual, we'll set-up a `ChatOpenAI` model - and we'll use the fan favourite `gpt-4o-mini` for today.\n",
        "\n",
        "However, we'll also implement...a PROMPT CACHE!\n",
        "\n",
        "In essence, this works in a very similar way to the embedding cache - if we've seen this prompt before, we just use the stored response."
      ],
      "metadata": {
        "id": "UQKnByVWMpiK"
      }
    },
    {
      "cell_type": "code",
      "source": [
        "from langchain_core.globals import set_llm_cache\n",
        "from langchain_openai import ChatOpenAI\n",
        "\n",
        "chat_model = ChatOpenAI(model=\"gpt-4o-mini\")"
      ],
      "metadata": {
        "id": "fOXKkaY7ABab"
      },
      "execution_count": 12,
      "outputs": []
    },
    {
      "cell_type": "markdown",
      "source": [
        "Setting up the cache can be done as follows:"
      ],
      "metadata": {
        "id": "mhv8IqZoM9cY"
      }
    },
    {
      "cell_type": "code",
      "source": [
        "from langchain_core.caches import InMemoryCache\n",
        "\n",
        "set_llm_cache(InMemoryCache())"
      ],
      "metadata": {
        "id": "thqam26gAyzN"
      },
      "execution_count": 13,
      "outputs": []
    },
    {
      "cell_type": "markdown",
      "source": [
        "##### ❓ Question #2:\n",
        "\n",
        "What are some limitations you can see with this approach? When is this most/least useful. Discuss with your group!\n",
        "\n",
        "> NOTE: There is no single correct answer here!"
      ],
      "metadata": {
        "id": "CvxEovcEM_oA"
      }
    },
    {
      "cell_type": "markdown",
      "source": [
        " This approach has limitations, including potential data staleness, reduced personalization, and challenges with context sensitivity, making it less suitable for highly dynamic content, creative tasks, or security-sensitive applications. The effectiveness of prompt caching ultimately depends on the specific use case, balancing the trade-offs between performance gains and potential drawbacks in accuracy or relevance."
      ],
      "metadata": {
        "id": "woAE2peaGstZ"
      }
    },
    {
      "cell_type": "markdown",
      "source": [
        "##### 🏗️ Activity #2:\n",
        "\n",
        "Create a simple experiment that tests the cache-backed embeddings."
      ],
      "metadata": {
        "id": "3iCMjVYKNEeV"
      }
    },
    {
      "cell_type": "code",
      "source": [
        "def run_llm_test(prompt):\n",
        "    start_time = time.time()\n",
        "    response = chat_model.invoke(prompt)\n",
        "    end_time = time.time()\n",
        "    return end_time - start_time, response\n",
        "\n",
        "# Test prompt\n",
        "test_prompt = \"What did Edward call Bella when he climbed trees with her on her back?\"\n",
        "\n",
        "# First run (without cache)\n",
        "first_run_time, first_response = run_llm_test(test_prompt)\n",
        "print(f\"First run time (without cache): {first_run_time:.4f} seconds\")\n",
        "print(f\"First response: {first_response.content[:50]}...\")  # Print first 50 characters\n",
        "\n",
        "# Second run (with cache)\n",
        "second_run_time, second_response = run_llm_test(test_prompt)\n",
        "print(f\"\\nSecond run time (with cache): {second_run_time:.4f} seconds\")\n",
        "print(f\"Second response: {second_response.content[:50]}...\")  # Print first 50 characters\n",
        "\n",
        "# Calculate and print the speedup\n",
        "speedup = (first_run_time - second_run_time) / first_run_time * 100\n",
        "print(f\"\\nSpeedup: {speedup:.2f}%\")\n",
        "\n",
        "# Verify cache is working\n",
        "print(f\"\\nResponses identical: {first_response.content == second_response.content}\")\n",
        "\n",
        "# Test with a slightly different prompt\n",
        "slightly_different_prompt = \"What did Edward say to Bella when they climbed trees with her on his back??\"\n",
        "third_run_time, third_response = run_llm_test(slightly_different_prompt)\n",
        "print(f\"\\nThird run time (different prompt): {third_run_time:.4f} seconds\")\n",
        "print(f\"Third response: {third_response.content[:50]}...\")"
      ],
      "metadata": {
        "id": "QT5GfmsHNFqP",
        "colab": {
          "base_uri": "https://localhost:8080/"
        },
        "outputId": "dc3e1659-0cc8-4b9a-9e2c-b2600715f961"
      },
      "execution_count": 14,
      "outputs": [
        {
          "output_type": "stream",
          "name": "stdout",
          "text": [
            "First run time (without cache): 1.3644 seconds\n",
            "First response: In \"Twilight,\" when Edward climbs trees with Bella...\n",
            "\n",
            "Second run time (with cache): 0.0016 seconds\n",
            "Second response: In \"Twilight,\" when Edward climbs trees with Bella...\n",
            "\n",
            "Speedup: 99.88%\n",
            "\n",
            "Responses identical: True\n",
            "\n",
            "Third run time (different prompt): 2.4150 seconds\n",
            "Third response: In \"Twilight,\" during the scene where Edward takes...\n"
          ]
        }
      ]
    },
    {
      "cell_type": "markdown",
      "source": [
        "## Task 3: RAG LCEL Chain\n",
        "\n",
        "We'll also set-up our typical RAG chain using LCEL.\n",
        "\n",
        "However, this time: We'll specifically call out that the `context` and `question` halves of the first \"link\" in the chain are executed *in parallel* by default!\n",
        "\n",
        "Thanks, LCEL!"
      ],
      "metadata": {
        "id": "zyPnNWb9NH7W"
      }
    },
    {
      "cell_type": "code",
      "source": [
        "from operator import itemgetter\n",
        "from langchain_core.runnables.passthrough import RunnablePassthrough\n",
        "\n",
        "retrieval_augmented_qa_chain = (\n",
        "        {\"context\": itemgetter(\"question\") | retriever, \"question\": itemgetter(\"question\")}\n",
        "        | RunnablePassthrough.assign(context=itemgetter(\"context\"))\n",
        "        | chat_prompt | chat_model\n",
        "    )"
      ],
      "metadata": {
        "id": "3JNvSsx_CEtI"
      },
      "execution_count": 15,
      "outputs": []
    },
    {
      "cell_type": "markdown",
      "source": [
        "Let's test it out!"
      ],
      "metadata": {
        "id": "Sx--wVctNdGa"
      }
    },
    {
      "cell_type": "code",
      "source": [
        "retrieval_augmented_qa_chain.invoke({\"question\" : \"What did Edward call Bella when he climbed trees with her on her back?\"})"
      ],
      "metadata": {
        "colab": {
          "base_uri": "https://localhost:8080/"
        },
        "id": "43uQegbnDQKP",
        "outputId": "32106c95-4997-4b31-f5e1-2fd06abd9df0"
      },
      "execution_count": 16,
      "outputs": [
        {
          "output_type": "execute_result",
          "data": {
            "text/plain": [
              "AIMessage(content='Edward called Bella \"Hold on\" when he scooped her up onto his back as they climbed trees together.', additional_kwargs={'refusal': None}, response_metadata={'token_usage': {'completion_tokens': 22, 'prompt_tokens': 1344, 'total_tokens': 1366, 'completion_tokens_details': {'audio_tokens': None, 'reasoning_tokens': 0}, 'prompt_tokens_details': {'audio_tokens': None, 'cached_tokens': 0}}, 'model_name': 'gpt-4o-mini-2024-07-18', 'system_fingerprint': 'fp_74ba47b4ac', 'finish_reason': 'stop', 'logprobs': None}, id='run-2880b64f-cd84-409a-9a60-60e8a5e83162-0', usage_metadata={'input_tokens': 1344, 'output_tokens': 22, 'total_tokens': 1366})"
            ]
          },
          "metadata": {},
          "execution_count": 16
        }
      ]
    },
    {
      "cell_type": "markdown",
      "source": [
        "Well I was trying to get \"Spider Monkey\" but it seems that was an improv line by Robert. Genius."
      ],
      "metadata": {
        "id": "wiJ2KdZyHdJG"
      }
    },
    {
      "cell_type": "markdown",
      "source": [
        "##### 🏗️ Activity #3:\n",
        "\n",
        "Show, through LangSmith, the different between a trace that is leveraging cache-backed embeddings and LLM calls - and one that isn't.\n",
        "\n",
        "Post screenshots in the notebook!"
      ],
      "metadata": {
        "id": "0tYAvHrJNecy"
      }
    },
    {
      "cell_type": "markdown",
      "source": [
        "![image.png](data:image/png;base64,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)"
      ],
      "metadata": {
        "id": "AvHksCM1IWRQ"
      }
    },
    {
      "cell_type": "markdown",
      "source": [],
      "metadata": {
        "id": "eXyhDWCmIbZd"
      }
    }
  ]
}